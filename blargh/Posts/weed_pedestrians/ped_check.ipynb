{
 "cells": [
  {
   "cell_type": "code",
   "execution_count": 1,
   "metadata": {},
   "outputs": [],
   "source": [
    "%matplotlib inline\n",
    "import numpy as np\n",
    "import matplotlib.pylab as plt"
   ]
  },
  {
   "cell_type": "code",
   "execution_count": 2,
   "metadata": {},
   "outputs": [],
   "source": [
    "names = ['state', 'y2016', 'y2017']\n",
    "types = ['|U40', int, int]\n",
    "data = np.loadtxt('pedestrians.dat', dtype=list(zip(names, types)), comments='#')"
   ]
  },
  {
   "cell_type": "code",
   "execution_count": 3,
   "metadata": {},
   "outputs": [],
   "source": [
    "weed_states = ['Alaska', 'Colorado', 'Maine',\n",
    "               'Massachusetts', 'Nevada', 'Oregon', 'Washington', 'DC']\n",
    "weed_indx = np.in1d(data['state'], weed_states)\n",
    "sig_diff = (data['y2017'] - data['y2016'])/np.sqrt(data['y2016'])"
   ]
  },
  {
   "cell_type": "code",
   "execution_count": 4,
   "metadata": {},
   "outputs": [
    {
     "data": {
      "text/plain": [
       "array([('Alaska',  6,  8), ('Colorado', 33, 37), ('DC',  3,  7),\n",
       "       ('Maine',  5,  5), ('Massachusetts', 35, 34), ('Nevada', 36, 43),\n",
       "       ('Oregon', 29, 35), ('Washington', 36, 44)],\n",
       "      dtype=[('state', '<U40'), ('y2016', '<i8'), ('y2017', '<i8')])"
      ]
     },
     "execution_count": 4,
     "metadata": {},
     "output_type": "execute_result"
    }
   ],
   "source": [
    "data[np.where(weed_indx)]"
   ]
  },
  {
   "cell_type": "code",
   "execution_count": 5,
   "metadata": {},
   "outputs": [
    {
     "data": {
      "text/plain": [
       "<matplotlib.text.Text at 0x10a13d860>"
      ]
     },
     "execution_count": 5,
     "metadata": {},
     "output_type": "execute_result"
    },
    {
     "data": {
      "image/png": "[encoded data removed]",
      "text/plain": [
       "<matplotlib.figure.Figure at 0x10a100940>"
      ]
     },
     "metadata": {},
     "output_type": "display_data"
    }
   ],
   "source": [
    "plt.hist(sig_diff)\n",
    "plt.xlabel('Sigma difference')\n",
    "plt.ylabel('#')"
   ]
  },
  {
   "cell_type": "code",
   "execution_count": 6,
   "metadata": {},
   "outputs": [
    {
     "data": {
      "text/plain": [
       "(array([ 2.,  0.,  0.,  2.,  0.,  2.,  1.,  0.,  0.,  1.]),\n",
       " array([-0.16903085,  0.07881234,  0.32665553,  0.57449873,  0.82234192,\n",
       "         1.07018511,  1.31802831,  1.5658715 ,  1.81371469,  2.06155788,\n",
       "         2.30940108]),\n",
       " <a list of 10 Patch objects>)"
      ]
     },
     "execution_count": 6,
     "metadata": {},
     "output_type": "execute_result"
    },
    {
     "data": {
      "image/png": "[encoded data removed]",
      "text/plain": [
       "<matplotlib.figure.Figure at 0x10d4d5eb8>"
      ]
     },
     "metadata": {},
     "output_type": "display_data"
    }
   ],
   "source": [
    "plt.hist(sig_diff[np.where(weed_indx)])"
   ]
  },
  {
   "cell_type": "code",
   "execution_count": 7,
   "metadata": {},
   "outputs": [],
   "source": [
    "\n",
    "\n",
    "ws_sig_diff = (data['y2017'][np.where(weed_indx)].sum() - data['y2016'][np.where(weed_indx)].sum())/np.sqrt(data['y2016'][np.where(weed_indx)].sum())\n",
    "\n",
    "\n"
   ]
  },
  {
   "cell_type": "code",
   "execution_count": 8,
   "metadata": {},
   "outputs": [
    {
     "data": {
      "text/plain": [
       "2.2176638128637185"
      ]
     },
     "execution_count": 8,
     "metadata": {},
     "output_type": "execute_result"
    }
   ],
   "source": [
    "ws_sig_diff"
   ]
  },
  {
   "cell_type": "code",
   "execution_count": 9,
   "metadata": {},
   "outputs": [
    {
     "data": {
      "text/plain": [
       "array([('Alaska',  6,  8), ('Colorado', 33, 37), ('DC',  3,  7),\n",
       "       ('Maine',  5,  5), ('Massachusetts', 35, 34), ('Nevada', 36, 43),\n",
       "       ('Oregon', 29, 35), ('Washington', 36, 44)],\n",
       "      dtype=[('state', '<U40'), ('y2016', '<i8'), ('y2017', '<i8')])"
      ]
     },
     "execution_count": 9,
     "metadata": {},
     "output_type": "execute_result"
    }
   ],
   "source": [
    "data[np.where(weed_indx)]"
   ]
  },
  {
   "cell_type": "code",
   "execution_count": 10,
   "metadata": {},
   "outputs": [
    {
     "name": "stdout",
     "output_type": "stream",
     "text": [
      "Total in weed states 2017 - 2016= 30\n"
     ]
    }
   ],
   "source": [
    "diff = data['y2017'][np.where(weed_indx)].sum() - data['y2016'][np.where(weed_indx)].sum()\n",
    "\n",
    "print('Total in weed states 2017 - 2016=', diff)\n",
    "\n"
   ]
  },
  {
   "cell_type": "code",
   "execution_count": 16,
   "metadata": {},
   "outputs": [
    {
     "name": "stdout",
     "output_type": "stream",
     "text": [
      "percent change in weed states 16.393442623\n"
     ]
    }
   ],
   "source": [
    "print('percent change in weed states', diff/data['y2016'][np.where(weed_indx)].sum()*100)"
   ]
  },
  {
   "cell_type": "code",
   "execution_count": 17,
   "metadata": {},
   "outputs": [
    {
     "name": "stdout",
     "output_type": "stream",
     "text": [
      "n_sigma change= 2.21766381286\n"
     ]
    }
   ],
   "source": [
    "print('n_sigma change=', diff/data['y2016'][np.where(weed_indx)].sum()**.5)"
   ]
  },
  {
   "cell_type": "code",
   "execution_count": 18,
   "metadata": {},
   "outputs": [
    {
     "name": "stdout",
     "output_type": "stream",
     "text": [
      "Total in non-weed states 2017 - 2016= -150\n",
      "percent change in non-weed states -5.82977069569\n"
     ]
    }
   ],
   "source": [
    "diff = data['y2017'][np.where(~weed_indx)].sum() - data['y2016'][np.where(~weed_indx)].sum()\n",
    "\n",
    "print('Total in non-weed states 2017 - 2016=', diff)\n",
    "print('percent change in non-weed states', diff/data['y2016'][np.where(~weed_indx)].sum()*100)\n",
    "      "
   ]
  },
  {
   "cell_type": "code",
   "execution_count": 19,
   "metadata": {},
   "outputs": [],
   "source": [
    "percent_change = (data['y2017'] - data['y2016'])/data['y2016']"
   ]
  },
  {
   "cell_type": "code",
   "execution_count": 20,
   "metadata": {},
   "outputs": [
    {
     "data": {
      "text/plain": [
       "array([ 0.33333333,  0.12121212,  1.33333333,  0.        , -0.02857143,\n",
       "        0.19444444,  0.20689655,  0.22222222])"
      ]
     },
     "execution_count": 20,
     "metadata": {},
     "output_type": "execute_result"
    }
   ],
   "source": [
    "percent_change[np.where(weed_indx)]"
   ]
  },
  {
   "cell_type": "code",
   "execution_count": 21,
   "metadata": {},
   "outputs": [],
   "source": [
    "# wow, it's all about leaving CA out. "
   ]
  },
  {
   "cell_type": "code",
   "execution_count": 24,
   "metadata": {},
   "outputs": [
    {
     "name": "stdout",
     "output_type": "stream",
     "text": [
      "Total in weed states 2017 - 2016= -51\n",
      "percent change= -8.27922077922\n",
      "n_sigma change= -2.05484855826\n"
     ]
    }
   ],
   "source": [
    "weed_states = ['Alaska', 'Colorado', 'Maine', 'California',\n",
    "               'Massachusetts', 'Nevada', 'Oregon', 'Washington', 'DC']\n",
    "weed_indx = np.in1d(data['state'], weed_states)\n",
    "sig_diff = (data['y2017'] - data['y2016'])/np.sqrt(data['y2016'])\n",
    "\n",
    "diff = data['y2017'][np.where(weed_indx)].sum() - data['y2016'][np.where(weed_indx)].sum()\n",
    "\n",
    "print('Total in weed states 2017 - 2016=', diff)\n",
    "print('percent change=', diff/data['y2016'][np.where(weed_indx)].sum()*100)\n",
    "\n",
    "print('n_sigma change=', diff/data['y2016'][np.where(weed_indx)].sum()**.5)\n"
   ]
  },
  {
   "cell_type": "code",
   "execution_count": 23,
   "metadata": {},
   "outputs": [
    {
     "name": "stdout",
     "output_type": "stream",
     "text": [
      "Total in non-weed states 2017 - 2016= -69\n",
      "percent change in non-weed states -3.22429906542\n"
     ]
    }
   ],
   "source": [
    "diff = data['y2017'][np.where(~weed_indx)].sum() - data['y2016'][np.where(~weed_indx)].sum()\n",
    "\n",
    "print('Total in non-weed states 2017 - 2016=', diff)\n",
    "print('percent change in non-weed states', diff/data['y2016'][np.where(~weed_indx)].sum()*100)\n",
    "      "
   ]
  },
  {
   "cell_type": "code",
   "execution_count": null,
   "metadata": {},
   "outputs": [],
   "source": []
  },
  {
   "cell_type": "code",
   "execution_count": null,
   "metadata": {},
   "outputs": [],
   "source": []
  }
 ],
 "metadata": {
  "kernelspec": {
   "display_name": "Python 3",
   "language": "python",
   "name": "python3"
  },
  "language_info": {
   "codemirror_mode": {
    "name": "ipython",
    "version": 3
   },
   "file_extension": ".py",
   "mimetype": "text/x-python",
   "name": "python",
   "nbconvert_exporter": "python",
   "pygments_lexer": "ipython3",
   "version": "3.6.2"
  }
 },
 "nbformat": 4,
 "nbformat_minor": 2
}
