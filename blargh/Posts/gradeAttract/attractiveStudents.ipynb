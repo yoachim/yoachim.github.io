{
 "cells": [
  {
   "cell_type": "markdown",
   "metadata": {},
   "source": [
    "Looking at silly article here:\n",
    "http://www.someecards.com/news/so-that-happened/female-students-attractiveness-influence-grades/\n",
    "\"For female students, an increase of one standard deviation in attractiveness was associated with a 0.024 increase in grade (on a 4.0 scale)\"\n",
    "\n",
    "And then from here:\n",
    "http://www.bustle.com/articles/133816-attractiveness-influences-female-students-grades-far-more-than-their-male-peers-according-to-this-study\n",
    "\"But women in the “less attractive” group showed a much larger gap, earning on average 0.067 grade points less than other students. \"\n",
    "\n",
    "How different would a report card look for someone getting a 3.0 and a 2.933"
   ]
  },
  {
   "cell_type": "code",
   "execution_count": 8,
   "metadata": {
    "collapsed": true
   },
   "outputs": [],
   "source": [
    "import numpy as np"
   ]
  },
  {
   "cell_type": "code",
   "execution_count": 9,
   "metadata": {
    "collapsed": false
   },
   "outputs": [
    {
     "name": "stdout",
     "output_type": "stream",
     "text": [
      "3.4776119403\n"
     ]
    }
   ],
   "source": [
    "n = (2.933-2.7)/(3.-2.933)\n",
    "print n"
   ]
  },
  {
   "cell_type": "code",
   "execution_count": 10,
   "metadata": {
    "collapsed": false
   },
   "outputs": [
    {
     "data": {
      "text/plain": [
       "2.9399999999999999"
      ]
     },
     "execution_count": 10,
     "metadata": {},
     "output_type": "execute_result"
    }
   ],
   "source": [
    "np.mean([3.,3.,3,3,2.7])"
   ]
  },
  {
   "cell_type": "markdown",
   "metadata": {},
   "source": [
    "If an average report card is between:\n",
    "B,B,B,B and B,B,B,B,B\n",
    "\n",
    "then the \"ugly penalty\" converts that to:\n",
    "B,B,B,B- and B,B,B,B,B-\n",
    "\n",
    "You lose 0.3 gpa points every 4th or 5th class.  It's something. Maybe even significant. But I think this shows that just a small fraction of teachers might be slightly biased and that would more than enough to account for the effect. Still, good reason to grade blind.\n",
    "\n",
    "So that raises an intersting question: what are the various ways this bias could be happening?"
   ]
  },
  {
   "cell_type": "markdown",
   "metadata": {
    "collapsed": false
   },
   "source": [
    "**Path 1:** Everyone is a little biased, sometimes that is enough to randomly round a grade down. Report card would look like this\n",
    "\n",
    "| |   Hot student  |  Not Hot |\n",
    "|-----|----------------|----------|\n",
    "|Prof 1 | B | B |\n",
    "|Prof 2 | B | B- |\n",
    "|Prof 3 | B | B |\n",
    "|Prof 4 | B  | B|\n",
    "|Prof 5 | B | B |\n",
    "|Prof 6 | B | B- |\n",
    "|Prof 7 | B | B |\n",
    "|Prof 8 | B  | B|\n",
    "|Prof 9 | B | B |\n",
    "|Prof 10 | B | B |\n",
    "|Prof 11 | B | B |\n",
    "|Prof 12 | B  | B-|\n",
    "|GPA    | 3.0| 2.92 |   \n",
    "\n",
    "In this case, three different proffs rounded the unatractive student down a little bit."
   ]
  },
  {
   "cell_type": "markdown",
   "metadata": {
    "collapsed": true
   },
   "source": [
    "**Path 2:** A few teachers are a little biased and consistently round unattractive students down a little bit. Report card would look like:\n",
    "\n",
    "| |   Hot student  |  Not Hot |\n",
    "|-----|----------------|----------|\n",
    "|Prof 1 | B | B |\n",
    "|<span style=\"color:red\">Prof 2</span> | B | B- |\n",
    "|Prof 3 | B | B |\n",
    "|Prof 4 | B  | B|\n",
    "|Prof 1 | B | B |\n",
    "|<span style=\"color:red\">Prof 2 </span>| B | B- |\n",
    "|Prof 3 | B | B |\n",
    "|Prof 4 | B  | B|\n",
    "|Prof 1 | B | B |\n",
    "|<span style=\"color:red\">Prof 2 </span>| B | B- |\n",
    "|Prof 3 | B | B |\n",
    "|Prof 4 | B  | B|\n",
    "|GPA    | 3.0| 2.93 |   \n",
    "\n",
    "In this case, Prof 2 consistently gave a slightly lower grade to the not hot student."
   ]
  },
  {
   "cell_type": "markdown",
   "metadata": {},
   "source": [
    "**Path 3:** A very small minority of teachers are *very* biased against unattractive students. Report cards would look like:\n",
    "\n",
    "| |   Hot student  |  Not Hot |\n",
    "|-----|----------------|----------|\n",
    "|Prof 1 | B | B |\n",
    "|Prof 2 | B | B |\n",
    "|Prof 3 | B | B |\n",
    "|Prof 4 | B  | B|\n",
    "|Prof 5 | B | B |\n",
    "|Prof 6 | B | B |\n",
    "|<span style=\"color:red\">Prof 7</span> | B | C |\n",
    "|Prof 8 | B  | B|\n",
    "|Prof 9 | B | B |\n",
    "|Prof 10 | B | B |\n",
    "|Prof 11 | B | B |\n",
    "|Prof 12 | B  | B|\n",
    "|GPA    | 3.0| 2.92 |   \n",
    "\n",
    "Here, Prof 7 is a real jerk who lowers the not hot student by a full grade."
   ]
  },
  {
   "cell_type": "markdown",
   "metadata": {},
   "source": [
    "To summerize the possibilities:\n",
    "\n",
    "1. 100% of people are a tiny bit biased, and it effects the grades they give 25% of the time\n",
    "2. 25% of people are consistently biased (a little bit)\n",
    "3. 8% of people are very biased\n",
    "\n",
    "or of course\n",
    "* some linear combination of the above (say, 4% of people are very biased and 12% of people are a little biased)\n",
    "\n",
    "But I think the big takeaway here is that, when it comes to giving out grades, it looks like the vast majority of teachers are fair most of the time.  Even if you are attractive enough to be a model, you're unlikely to get a grade rounded up. \n",
    "\n",
    "Even with that, no reason to assume you have no biases, so why not grade \"blind\"? Costs virtually nothing, and could increase fairness of the course."
   ]
  },
  {
   "cell_type": "code",
   "execution_count": null,
   "metadata": {
    "collapsed": false
   },
   "outputs": [],
   "source": []
  },
  {
   "cell_type": "code",
   "execution_count": null,
   "metadata": {
    "collapsed": true
   },
   "outputs": [],
   "source": []
  }
 ],
 "metadata": {
  "kernelspec": {
   "display_name": "Python 2",
   "language": "python",
   "name": "python2"
  },
  "language_info": {
   "codemirror_mode": {
    "name": "ipython",
    "version": 2
   },
   "file_extension": ".py",
   "mimetype": "text/x-python",
   "name": "python",
   "nbconvert_exporter": "python",
   "pygments_lexer": "ipython2",
   "version": "2.7.11"
  }
 },
 "nbformat": 4,
 "nbformat_minor": 0
}
