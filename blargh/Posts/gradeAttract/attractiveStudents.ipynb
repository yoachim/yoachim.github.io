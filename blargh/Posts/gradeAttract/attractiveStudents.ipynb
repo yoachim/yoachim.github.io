{
 "cells": [
  {
   "cell_type": "markdown",
   "metadata": {},
   "source": [
    "Looking at silly article here:\n",
    "http://www.someecards.com/news/so-that-happened/female-students-attractiveness-influence-grades/\n",
    "\"For female students, an increase of one standard deviation in attractiveness was associated with a 0.024 increase in grade (on a 4.0 scale)\"\n",
    "\n",
    "And then from here:\n",
    "http://www.bustle.com/articles/133816-attractiveness-influences-female-students-grades-far-more-than-their-male-peers-according-to-this-study\n",
    "\"But women in the “less attractive” group showed a much larger gap, earning on average 0.067 grade points less than other students. \"\n",
    "\n",
    "How different would a report card look for someone getting a 3.0 and a 2.933"
   ]
  },
  {
   "cell_type": "code",
   "execution_count": 1,
   "metadata": {
    "collapsed": true
   },
   "outputs": [],
   "source": [
    "import numpy as np"
   ]
  },
  {
   "cell_type": "code",
   "execution_count": 4,
   "metadata": {
    "collapsed": false
   },
   "outputs": [
    {
     "name": "stdout",
     "output_type": "stream",
     "text": [
      "3.4776119403\n"
     ]
    }
   ],
   "source": [
    "n = (2.933-2.7)/(3.-2.933)\n",
    "print n"
   ]
  },
  {
   "cell_type": "code",
   "execution_count": 8,
   "metadata": {
    "collapsed": false
   },
   "outputs": [
    {
     "data": {
      "text/plain": [
       "2.9249999999999998"
      ]
     },
     "execution_count": 8,
     "metadata": {},
     "output_type": "execute_result"
    }
   ],
   "source": [
    "np.mean([3.,3.,3,2.7])"
   ]
  },
  {
   "cell_type": "markdown",
   "metadata": {},
   "source": [
    "If an average report card is between:\n",
    "B,B,B,B and B,B,B,B,B\n",
    "\n",
    "then the \"ugly penalty\" converts that to:\n",
    "B,B,B,B- and B,B,B,B,B-\n",
    "\n",
    "You lose 0.3 gpa points every 4th or 5th class.  It's something. Maybe even significant. But I think this shows that just a small fraction of teachers might be slightly biased and that would more than enough to account for the effect. Still, good reason to grade blind.\n",
    "\n"
   ]
  },
  {
   "cell_type": "code",
   "execution_count": null,
   "metadata": {
    "collapsed": false
   },
   "outputs": [],
   "source": []
  },
  {
   "cell_type": "code",
   "execution_count": null,
   "metadata": {
    "collapsed": true
   },
   "outputs": [],
   "source": []
  }
 ],
 "metadata": {
  "kernelspec": {
   "display_name": "Python 2",
   "language": "python",
   "name": "python2"
  },
  "language_info": {
   "codemirror_mode": {
    "name": "ipython",
    "version": 2
   },
   "file_extension": ".py",
   "mimetype": "text/x-python",
   "name": "python",
   "nbconvert_exporter": "python",
   "pygments_lexer": "ipython2",
   "version": "2.7.11"
  }
 },
 "nbformat": 4,
 "nbformat_minor": 0
}
