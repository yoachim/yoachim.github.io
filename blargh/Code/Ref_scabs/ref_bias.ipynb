{
 "metadata": {
  "name": "ref_bias"
 }, 
 "nbformat": 2, 
 "worksheets": [
  {
   "cells": [
    {
     "cell_type": "markdown", 
     "source": [
      "Looking at if a Monte Carlo simulation matches the real calc", 
      "", 
      "Assume real bias is home team wins 56% of games.", 
      "", 
      "For the replacement refs, the record was 31-17.", 
      "", 
      "Good examples at:  http://en.wikipedia.org/wiki/Checking_whether_a_coin_is_fair"
     ]
    }, 
    {
     "cell_type": "code", 
     "collapsed": false, 
     "input": [
      "#play 10,000 seasons of football with 48 games each", 
      "hg = np.random.rand(10000,48) ", 
      "#home team wins 56% of the time", 
      "hg[np.where(hg <= 0.56)]=1 ", 
      "#the rest are losses", 
      "hg[np.where(hg < 1)]=0 ", 
      "#total up the wins per season", 
      "ack = np.sum(hg, axis=1) ", 
      "print 'probability of home team winning 31 or more games with 1999-2008 refs = %.2f'%(np.size(np.where(ack >= 31)) /10000.*100)+'%' "
     ], 
     "language": "python", 
     "outputs": [
      {
       "output_type": "stream", 
       "stream": "stdout", 
       "text": [
        "probability of home team winning 31 or more games with 1999-2008 refs = 14.91%"
       ]
      }
     ], 
     "prompt_number": 1
    }, 
    {
     "cell_type": "markdown", 
     "source": [
      "The above makes the error of looking at what percentage have more wins, not how many are closer to the expected value.  Should be"
     ]
    }, 
    {
     "cell_type": "code", 
     "collapsed": false, 
     "input": [], 
     "language": "python", 
     "outputs": [], 
     "prompt_number": 1
    }, 
    {
     "cell_type": "markdown", 
     "source": [
      "Expected to have 26.88 wins at this point in the season.", 
      "Actually have 31."
     ]
    }, 
    {
     "cell_type": "code", 
     "collapsed": false, 
     "input": [
      "print 'percent of sims farther from the expected value than the replacements =%.2f'%(np.size(np.where(np.abs(ack-26.88) >= 31-26.88))/10e3*100)"
     ], 
     "language": "python", 
     "outputs": [
      {
       "output_type": "stream", 
       "stream": "stdout", 
       "text": [
        "percent of sims farther from the expected value than the replacements =25.25"
       ]
      }
     ], 
     "prompt_number": 17
    }, 
    {
     "cell_type": "code", 
     "collapsed": true, 
     "input": [
      "def prob_ref(hfa_obs, hfa_expected=.56, n=10000):"
     ], 
     "language": "python", 
     "outputs": []
    }, 
    {
     "cell_type": "code", 
     "collapsed": true, 
     "input": [], 
     "language": "python", 
     "outputs": []
    }
   ]
  }
 ]
}