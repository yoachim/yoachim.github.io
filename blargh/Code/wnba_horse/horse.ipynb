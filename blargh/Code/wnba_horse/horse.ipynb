{
 "cells": [
  {
   "cell_type": "code",
   "execution_count": 1,
   "id": "b02a62c9-3aa4-46a8-9e55-0317bb0ae8fe",
   "metadata": {},
   "outputs": [],
   "source": [
    "import numpy as np\n",
    "import matplotlib.pylab as plt\n",
    "%matplotlib inline"
   ]
  },
  {
   "cell_type": "markdown",
   "id": "4a2504ac-74c0-4893-a136-9a0710e6aeab",
   "metadata": {},
   "source": [
    "OK, so what is the probability of Angel Reese beating Caitlin Clark in a game of horse?\n",
    "data from https://stats.wnba.com/players/shooting/"
   ]
  },
  {
   "cell_type": "code",
   "execution_count": 5,
   "id": "feb151a1-e2eb-496f-8d08-e5e77e83cd51",
   "metadata": {},
   "outputs": [],
   "source": [
    "# in bins of <5 ft, 5-9 ft, 10-14 ft, 15-19 ft, 20-24 ft, 25-29 ft\n",
    "ar_p = np.array([44.5, 11.1, 33.3, 35.7, 18.2, 20.])\n",
    "cc_p = np.array([63.1, 36.7, 43.8, 42.1, 36.8, 34])"
   ]
  },
  {
   "cell_type": "code",
   "execution_count": 11,
   "id": "40673362-42c2-43bc-8227-ceb6d6f8af4e",
   "metadata": {},
   "outputs": [],
   "source": [
    "rng = np.random.default_rng(42)\n",
    "\n",
    "def play_horse(p1, p2):\n",
    "    \"\"\"play horse for players with different shooting percentages\n",
    "    \"\"\"\n",
    "    score_1 = 0\n",
    "    score_2 = 0\n",
    "\n",
    "    turns = 0\n",
    "    while (score_1 < 5) & (score_2 < 5):\n",
    "        shots = rng.random(2)\n",
    "        if (shots[0] < p1) & (shots[1] > p2):\n",
    "            score_1 += 1\n",
    "        if (shots[0] > p1) & (shots[1] < p2):\n",
    "            score_2 +=1\n",
    "        turns += 1\n",
    "    \n",
    "    return score_1, score_2, turns"
   ]
  },
  {
   "cell_type": "code",
   "execution_count": 18,
   "id": "f18bc381-1171-49a6-80c3-9fcd5a0889d9",
   "metadata": {},
   "outputs": [
    {
     "data": {
      "text/plain": [
       "(5, 1, 17)"
      ]
     },
     "execution_count": 18,
     "metadata": {},
     "output_type": "execute_result"
    }
   ],
   "source": [
    "play_horse(.367, .111)"
   ]
  },
  {
   "cell_type": "code",
   "execution_count": 22,
   "id": "af95e238-ae7d-4c48-be2e-341d165408bf",
   "metadata": {},
   "outputs": [
    {
     "data": {
      "text/plain": [
       "(5, 2, 17)"
      ]
     },
     "execution_count": 22,
     "metadata": {},
     "output_type": "execute_result"
    }
   ],
   "source": [
    "play_horse(.368, .182)"
   ]
  },
  {
   "cell_type": "code",
   "execution_count": null,
   "id": "a7298a8f-4272-49cd-b46a-9b680422e622",
   "metadata": {},
   "outputs": [],
   "source": []
  }
 ],
 "metadata": {
  "kernelspec": {
   "display_name": "Python 3 (ipykernel)",
   "language": "python",
   "name": "python3"
  },
  "language_info": {
   "codemirror_mode": {
    "name": "ipython",
    "version": 3
   },
   "file_extension": ".py",
   "mimetype": "text/x-python",
   "name": "python",
   "nbconvert_exporter": "python",
   "pygments_lexer": "ipython3",
   "version": "3.11.8"
  }
 },
 "nbformat": 4,
 "nbformat_minor": 5
}
