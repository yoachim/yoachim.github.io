{
 "cells": [
  {
   "cell_type": "code",
   "execution_count": 1,
   "id": "128af5dd",
   "metadata": {},
   "outputs": [],
   "source": [
    "import numpy as np"
   ]
  },
  {
   "cell_type": "markdown",
   "id": "c1629975",
   "metadata": {},
   "source": [
    "So this page says there have been 29,000 person days in space: https://whoisinspace.com/spaceflight-stats\n",
    "\n",
    "And here, 19 fatalities:  https://en.wikipedia.org/wiki/List_of_spaceflight-related_accidents_and_incidents"
   ]
  },
  {
   "cell_type": "code",
   "execution_count": 2,
   "id": "c5a59acb",
   "metadata": {},
   "outputs": [],
   "source": [
    "hours_in_space = 29000*24."
   ]
  },
  {
   "cell_type": "code",
   "execution_count": 5,
   "id": "3f166f07",
   "metadata": {},
   "outputs": [],
   "source": [
    "hpd = hours_in_space/19."
   ]
  },
  {
   "cell_type": "code",
   "execution_count": 6,
   "id": "172cb189",
   "metadata": {},
   "outputs": [
    {
     "data": {
      "text/plain": [
       "36631.57894736842"
      ]
     },
     "execution_count": 6,
     "metadata": {},
     "output_type": "execute_result"
    }
   ],
   "source": [
    "hpd"
   ]
  },
  {
   "cell_type": "code",
   "execution_count": 7,
   "id": "98123a5c",
   "metadata": {},
   "outputs": [
    {
     "data": {
      "text/plain": [
       "4.052631578947368"
      ]
     },
     "execution_count": 7,
     "metadata": {},
     "output_type": "execute_result"
    }
   ],
   "source": [
    "77/19"
   ]
  },
  {
   "cell_type": "code",
   "execution_count": null,
   "id": "27b6f44b",
   "metadata": {},
   "outputs": [],
   "source": []
  },
  {
   "cell_type": "code",
   "execution_count": 9,
   "id": "e845604f",
   "metadata": {},
   "outputs": [
    {
     "data": {
      "text/plain": [
       "285.25"
      ]
     },
     "execution_count": 9,
     "metadata": {},
     "output_type": "execute_result"
    }
   ],
   "source": [
    "1141/4"
   ]
  },
  {
   "cell_type": "code",
   "execution_count": null,
   "id": "84f5ed79",
   "metadata": {},
   "outputs": [],
   "source": []
  }
 ],
 "metadata": {
  "kernelspec": {
   "display_name": "Python 3 (ipykernel)",
   "language": "python",
   "name": "python3"
  },
  "language_info": {
   "codemirror_mode": {
    "name": "ipython",
    "version": 3
   },
   "file_extension": ".py",
   "mimetype": "text/x-python",
   "name": "python",
   "nbconvert_exporter": "python",
   "pygments_lexer": "ipython3",
   "version": "3.9.16"
  }
 },
 "nbformat": 4,
 "nbformat_minor": 5
}
